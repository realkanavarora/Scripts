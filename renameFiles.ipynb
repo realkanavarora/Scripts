{
 "cells": [
  {
   "cell_type": "code",
   "execution_count": 1,
   "metadata": {},
   "outputs": [],
   "source": [
    "# This script will rename all the files serially \n",
    "# Input file name  contains DATE-MONTH based on which it will automatically rename all the files"
   ]
  },
  {
   "cell_type": "code",
   "execution_count": 24,
   "metadata": {},
   "outputs": [],
   "source": [
    "import os\n",
    "from datetime import datetime"
   ]
  },
  {
   "cell_type": "code",
   "execution_count": 25,
   "metadata": {},
   "outputs": [],
   "source": [
    "os.chdir(r\"D:\\\\Github\\\\lab-work\\\\Python\\\\Lab File\")"
   ]
  },
  {
   "cell_type": "code",
   "execution_count": 26,
   "metadata": {},
   "outputs": [
    {
     "data": {
      "text/plain": [
       "'D:\\\\Github\\\\lab-work\\\\Python\\\\Lab File'"
      ]
     },
     "execution_count": 26,
     "metadata": {},
     "output_type": "execute_result"
    }
   ],
   "source": [
    "os.getcwd()"
   ]
  },
  {
   "cell_type": "code",
   "execution_count": 33,
   "metadata": {},
   "outputs": [
    {
     "data": {
      "text/plain": [
       "['03-02',\n",
       " '04-02',\n",
       " '04-04',\n",
       " '10-02',\n",
       " '10-03',\n",
       " '11-03',\n",
       " '17-02',\n",
       " '18-02',\n",
       " '20-01',\n",
       " '21-02',\n",
       " '21-03',\n",
       " '22-03',\n",
       " '25-01',\n",
       " '25-03',\n",
       " '28-02',\n",
       " '31-01',\n",
       " '31-03']"
      ]
     },
     "execution_count": 33,
     "metadata": {},
     "output_type": "execute_result"
    }
   ],
   "source": [
    "\n",
    "dirData = os.listdir()\n",
    "dirData = list(map(lambda x: x.replace(\"-23.ipynb\",\"\"),dirData))\n",
    "dirData"
   ]
  },
  {
   "cell_type": "code",
   "execution_count": 34,
   "metadata": {},
   "outputs": [],
   "source": [
    "sortedDir = list(map( lambda x: x+\"-23.ipynb\" ,sorted(dirData,key=lambda date: datetime.strptime(date, \"%d-%m\"))))"
   ]
  },
  {
   "cell_type": "code",
   "execution_count": 35,
   "metadata": {},
   "outputs": [
    {
     "data": {
      "text/plain": [
       "['20-01-23.ipynb',\n",
       " '25-01-23.ipynb',\n",
       " '31-01-23.ipynb',\n",
       " '03-02-23.ipynb',\n",
       " '04-02-23.ipynb',\n",
       " '10-02-23.ipynb',\n",
       " '17-02-23.ipynb',\n",
       " '18-02-23.ipynb',\n",
       " '21-02-23.ipynb',\n",
       " '28-02-23.ipynb',\n",
       " '10-03-23.ipynb',\n",
       " '11-03-23.ipynb',\n",
       " '21-03-23.ipynb',\n",
       " '22-03-23.ipynb',\n",
       " '25-03-23.ipynb',\n",
       " '31-03-23.ipynb',\n",
       " '04-04-23.ipynb']"
      ]
     },
     "execution_count": 35,
     "metadata": {},
     "output_type": "execute_result"
    }
   ],
   "source": [
    "sortedDir"
   ]
  },
  {
   "cell_type": "code",
   "execution_count": 36,
   "metadata": {},
   "outputs": [],
   "source": [
    "# Sorted the file in a list now \n",
    "# Renaming them serially "
   ]
  },
  {
   "cell_type": "code",
   "execution_count": 38,
   "metadata": {},
   "outputs": [],
   "source": [
    "initial=1\n",
    "for fName in sortedDir:\n",
    "    os.rename(fName,f\"{initial}.ipynb\")\n",
    "    initial+=1"
   ]
  },
  {
   "cell_type": "code",
   "execution_count": 39,
   "metadata": {},
   "outputs": [],
   "source": [
    "# End!>"
   ]
  },
  {
   "cell_type": "code",
   "execution_count": null,
   "metadata": {},
   "outputs": [],
   "source": []
  }
 ],
 "metadata": {
  "kernelspec": {
   "display_name": "base",
   "language": "python",
   "name": "python3"
  },
  "language_info": {
   "codemirror_mode": {
    "name": "ipython",
    "version": 3
   },
   "file_extension": ".py",
   "mimetype": "text/x-python",
   "name": "python",
   "nbconvert_exporter": "python",
   "pygments_lexer": "ipython3",
   "version": "3.9.12"
  },
  "orig_nbformat": 4
 },
 "nbformat": 4,
 "nbformat_minor": 2
}
